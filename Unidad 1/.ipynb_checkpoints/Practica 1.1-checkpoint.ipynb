{
 "cells": [
  {
   "cell_type": "code",
   "execution_count": 10,
   "metadata": {},
   "outputs": [],
   "source": [
    "import numpy as np\n",
    "import matplotlib.pyplot as plt\n",
    "import scipy.io"
   ]
  },
  {
   "cell_type": "code",
   "execution_count": 13,
   "metadata": {},
   "outputs": [
    {
     "data": {
      "image/png": "[encoded data removed]",
      "text/plain": [
       "<matplotlib.figure.Figure at 0x7f7adc47a128>"
      ]
     },
     "metadata": {},
     "output_type": "display_data"
    }
   ],
   "source": [
    "#Cargar datos\n",
    "data = scipy.io.loadmat('data_1.mat')\n",
    "\n",
    "#Extraer valores\n",
    "x = data['x']\n",
    "y = data['y']\n",
    "\n",
    "#Imprimir valores\n",
    "plt.plot(x, y, '*', color='red');"
   ]
  },
  {
   "cell_type": "code",
   "execution_count": null,
   "metadata": {},
   "outputs": [],
   "source": [
    "#Cargar datos\n",
    "data = scipy.io.loadmat('data_2.mat')\n",
    "\n",
    "#Extraer valores\n",
    "x = data['x']\n",
    "y = data['y']\n",
    "\n",
    "#Imprimir valores\n",
    "plt.plot(x, y, '*', color='red');"
   ]
  }
 ],
 "metadata": {
  "kernelspec": {
   "display_name": "Python 3",
   "language": "python",
   "name": "python3"
  },
  "language_info": {
   "codemirror_mode": {
    "name": "ipython",
    "version": 3
   },
   "file_extension": ".py",
   "mimetype": "text/x-python",
   "name": "python",
   "nbconvert_exporter": "python",
   "pygments_lexer": "ipython3",
   "version": "3.5.2"
  }
 },
 "nbformat": 4,
 "nbformat_minor": 2
}
